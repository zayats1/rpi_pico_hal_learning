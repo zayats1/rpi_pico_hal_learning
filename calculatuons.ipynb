{
 "cells": [
  {
   "cell_type": "markdown",
   "metadata": {},
   "source": [
    "\n",
    "# Calculations for my project"
   ]
  },
  {
   "cell_type": "markdown",
   "metadata": {},
   "source": [
    "## Servo"
   ]
  },
  {
   "cell_type": "markdown",
   "metadata": {},
   "source": [
    "### duty to degree\n",
    "\n",
    "outdated values\n",
    "0*  = 2500\n",
    "90* = 3930\n",
    "180 = 7860"
   ]
  },
  {
   "cell_type": "code",
   "execution_count": 4,
   "metadata": {},
   "outputs": [
    {
     "name": "stdout",
     "output_type": "stream",
     "text": [
      "period_ms = 20.0\n",
      "ms per 0* = 0.5004959182116426\n",
      "ms per 90* = 1.501487754634928\n",
      "ms per 180* = 2.502479591058213\n",
      "duty on 180 = 8200\n",
      "duty per degree = 36.44444444444444\n",
      "duty per 180 degree = 8200.0\n"
     ]
    }
   ],
   "source": [
    "period_ms = 1/50 * 1000\n",
    "\n",
    "degree = 45\n",
    "\n",
    "duty_on_zero  = 1640\n",
    "duty_on_90 =  duty_on_zero * 3\n",
    "duty_on_180 = duty_on_zero * 5\n",
    "\n",
    "duty_per_degree =  (duty_on_90 - duty_on_zero)  / 90\n",
    "\n",
    "ms_per_zero = period_ms / (pow(2,16) -1) * duty_on_zero \n",
    "ms_per_90 = period_ms / (pow(2,16) -1) * duty_on_90\n",
    "\n",
    "ms_per_180 = period_ms / (pow(2,16) -1) * duty_on_180\n",
    "\n",
    "print(\"period_ms =\",period_ms)\n",
    "print(\"ms per 0* =\",ms_per_zero)\n",
    "print(\"ms per 90* =\",ms_per_90)\n",
    "print(\"ms per 180* =\",ms_per_180)\n",
    "print(\"duty on 180 =\" , duty_on_180)\n",
    "print(\"duty per degree =\",duty_per_degree)\n",
    "\n",
    "the_degree = 180\n",
    "duty_on_the_degree = duty_per_degree * the_degree + duty_on_zero\n",
    "# you should add duty on zero for \n",
    "print(f\"duty per {the_degree} degree =\",duty_on_the_degree)\n"
   ]
  }
 ],
 "metadata": {
  "kernelspec": {
   "display_name": "Python 3.10.7 64-bit",
   "language": "python",
   "name": "python3"
  },
  "language_info": {
   "codemirror_mode": {
    "name": "ipython",
    "version": 3
   },
   "file_extension": ".py",
   "mimetype": "text/x-python",
   "name": "python",
   "nbconvert_exporter": "python",
   "pygments_lexer": "ipython3",
   "version": "3.10.7"
  },
  "orig_nbformat": 4,
  "vscode": {
   "interpreter": {
    "hash": "e7370f93d1d0cde622a1f8e1c04877d8463912d04d973331ad4851f04de6915a"
   }
  }
 },
 "nbformat": 4,
 "nbformat_minor": 2
}
